{
  "nbformat": 4,
  "nbformat_minor": 0,
  "metadata": {
    "colab": {
      "name": "Python   Tutorial 3 - Variables Excercise",
      "provenance": [],
      "authorship_tag": "ABX9TyOhrl0F9OZqadylpXTEFcMZ",
      "include_colab_link": true
    },
    "kernelspec": {
      "name": "python3",
      "display_name": "Python 3"
    },
    "language_info": {
      "name": "python"
    }
  },
  "cells": [
    {
      "cell_type": "markdown",
      "metadata": {
        "id": "view-in-github",
        "colab_type": "text"
      },
      "source": [
        "<a href=\"https://colab.research.google.com/github/hanainajmal/Alphabrain-ai.com/blob/master/Python_Tutorial_3_Variables_Excercise.ipynb\" target=\"_parent\"><img src=\"https://colab.research.google.com/assets/colab-badge.svg\" alt=\"Open In Colab\"/></a>"
      ]
    },
    {
      "cell_type": "code",
      "metadata": {
        "id": "HHIqWOYwGvG7"
      },
      "source": [
        "a = \"5\""
      ],
      "execution_count": 1,
      "outputs": []
    },
    {
      "cell_type": "code",
      "metadata": {
        "id": "8QX8Ag51Hg7b",
        "outputId": "2f7cbbaa-fc7a-43fd-9e09-251b8bb47c15",
        "colab": {
          "base_uri": "https://localhost:8080/"
        }
      },
      "source": [
        "print('a')\n"
      ],
      "execution_count": 3,
      "outputs": [
        {
          "output_type": "stream",
          "name": "stdout",
          "text": [
            "a\n"
          ]
        }
      ]
    },
    {
      "cell_type": "code",
      "metadata": {
        "id": "ZNllAw-oHuhb",
        "outputId": "c8f0a8ac-04bc-47b1-c863-f68ef37023fd",
        "colab": {
          "base_uri": "https://localhost:8080/",
          "height": 36
        }
      },
      "source": [
        "a\n"
      ],
      "execution_count": 4,
      "outputs": [
        {
          "output_type": "execute_result",
          "data": {
            "application/vnd.google.colaboratory.intrinsic+json": {
              "type": "string"
            },
            "text/plain": [
              "'5'"
            ]
          },
          "metadata": {},
          "execution_count": 4
        }
      ]
    },
    {
      "cell_type": "code",
      "metadata": {
        "id": "JQY9mwusHwz1"
      },
      "source": [
        "Birth_day = 2003\n",
        "current_year = 2021\n",
        "age = (int(Birth_day)) - (int(current_year))"
      ],
      "execution_count": 12,
      "outputs": []
    },
    {
      "cell_type": "code",
      "metadata": {
        "id": "LZb-WVpjIhTO",
        "outputId": "472c256d-b46c-4676-faaa-6f1b9ce9bffc",
        "colab": {
          "base_uri": "https://localhost:8080/"
        }
      },
      "source": [
        "print('age')"
      ],
      "execution_count": 9,
      "outputs": [
        {
          "output_type": "stream",
          "name": "stdout",
          "text": [
            "age\n"
          ]
        }
      ]
    },
    {
      "cell_type": "code",
      "metadata": {
        "id": "CwxU5PwtJiDi",
        "outputId": "bace98d0-ef14-4eb4-89c9-3070d7e847f2",
        "colab": {
          "base_uri": "https://localhost:8080/"
        }
      },
      "source": [
        "age"
      ],
      "execution_count": 13,
      "outputs": [
        {
          "output_type": "execute_result",
          "data": {
            "text/plain": [
              "-18"
            ]
          },
          "metadata": {},
          "execution_count": 13
        }
      ]
    },
    {
      "cell_type": "code",
      "metadata": {
        "id": "4tT1D1iiJjVE",
        "outputId": "e8c22605-d1ce-4cdb-aee3-38135e50d083",
        "colab": {
          "base_uri": "https://localhost:8080/"
        }
      },
      "source": [
        "birth_year=1982\n",
        "current_year=2019\n",
        "age=current_year-birth_year\n",
        "age"
      ],
      "execution_count": 11,
      "outputs": [
        {
          "output_type": "execute_result",
          "data": {
            "text/plain": [
              "37"
            ]
          },
          "metadata": {},
          "execution_count": 11
        }
      ]
    }
  ]
}